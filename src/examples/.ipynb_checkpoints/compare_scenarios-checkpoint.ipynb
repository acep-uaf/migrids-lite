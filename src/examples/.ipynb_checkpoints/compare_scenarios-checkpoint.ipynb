{
 "cells": [
  {
   "cell_type": "code",
   "execution_count": 1,
   "id": "5b0c305c-137b-4ac1-b1ba-836c78fa416d",
   "metadata": {},
   "outputs": [
    {
     "ename": "ModuleNotFoundError",
     "evalue": "No module named 'matplotlib'",
     "output_type": "error",
     "traceback": [
      "\u001b[31m---------------------------------------------------------------------------\u001b[39m",
      "\u001b[31mModuleNotFoundError\u001b[39m                       Traceback (most recent call last)",
      "\u001b[36mCell\u001b[39m\u001b[36m \u001b[39m\u001b[32mIn[1]\u001b[39m\u001b[32m, line 3\u001b[39m\n\u001b[32m      1\u001b[39m \u001b[38;5;28;01mimport\u001b[39;00m\u001b[38;5;250m \u001b[39m\u001b[34;01mmigrids_lite\u001b[39;00m\u001b[38;5;250m \u001b[39m\u001b[38;5;28;01mas\u001b[39;00m\u001b[38;5;250m \u001b[39m\u001b[34;01mmlt\u001b[39;00m\n\u001b[32m      2\u001b[39m \u001b[38;5;28;01mimport\u001b[39;00m\u001b[38;5;250m \u001b[39m\u001b[34;01mpandas\u001b[39;00m\u001b[38;5;250m \u001b[39m\u001b[38;5;28;01mas\u001b[39;00m\u001b[38;5;250m \u001b[39m\u001b[34;01mpd\u001b[39;00m\n\u001b[32m----> \u001b[39m\u001b[32m3\u001b[39m \u001b[38;5;28;01mfrom\u001b[39;00m\u001b[38;5;250m \u001b[39m\u001b[34;01mmatplotlib\u001b[39;00m\u001b[38;5;250m \u001b[39m\u001b[38;5;28;01mimport\u001b[39;00m pyplot \u001b[38;5;28;01mas\u001b[39;00m plt\n",
      "\u001b[31mModuleNotFoundError\u001b[39m: No module named 'matplotlib'"
     ]
    }
   ],
   "source": [
    "import migrids_lite as mlt\n",
    "import pandas as pd\n",
    "from matplotlib import pyplot as plt"
   ]
  },
  {
   "cell_type": "code",
   "execution_count": 2,
   "id": "894b53ef-6bb1-4f88-a97e-463e9812b579",
   "metadata": {},
   "outputs": [],
   "source": [
    "# get all the data\n",
    "all_data = pd.read_csv('example_data.tab', delimiter='\\t')\n",
    "\n",
    "# get the electric load from the data\n",
    "electric_load = mlt.EnergyType.EnergyType('electric_load', all_data['load'])\n",
    "\n",
    "# get the resource available\n",
    "# the just 1 resource isn't enough to use the battery, so we make the resource bigger by a multiplier\n",
    "solar_energy = mlt.EnergyType.EnergyType('resource', all_data['solar_energy'], multiplier=3)"
   ]
  },
  {
   "cell_type": "code",
   "execution_count": null,
   "id": "46c857dc-26bf-46b3-b17a-c727983698c9",
   "metadata": {},
   "outputs": [],
   "source": [
    "# create a generator, this one is 400 kW\n",
    "four_hund = mlt.Generator.Generator('four_hund', 400, 0.30, {0.50: 14, 1.00: 28})\n",
    "\n",
    "# build the power house, this is required even if there's only 1 generator\n",
    "power_house = mlt.Powerhouse.Powerhouse((four_hund,))"
   ]
  },
  {
   "cell_type": "code",
   "execution_count": null,
   "id": "14950268-4c38-4bd7-bb76-e17a65fd65b9",
   "metadata": {},
   "outputs": [],
   "source": [
    "# build the battery called 'example_batt', rated input is 50 kW, output is 100 kW,\n",
    "# and capacity is 100 kWh, minimum capacity percent is 30\n",
    "battery = mlt.Storage.Storage('example_batt', 100, 50, 100, 0.3)"
   ]
  },
  {
   "cell_type": "code",
   "execution_count": null,
   "id": "0dc06681-1980-4f77-be1b-db91a01eda00",
   "metadata": {},
   "outputs": [],
   "source": [
    "# calculate diesel only usage\n",
    "diesel_src = mlt.System.System(electric_load, power_house, 'd')"
   ]
  },
  {
   "cell_type": "code",
   "execution_count": null,
   "id": "3e7dbe45-5908-4c0d-a05c-ba011d0c90f2",
   "metadata": {},
   "outputs": [],
   "source": [
    "# calculate in resource offset mode\n",
    "resource_offset = mlt.System.System(electric_load, power_house, 'r', resource_input=solar_energy)"
   ]
  },
  {
   "cell_type": "code",
   "execution_count": null,
   "id": "86e457b2-38ab-4c6a-adcd-b87da6eb193b",
   "metadata": {},
   "outputs": [],
   "source": [
    "# calculate in storage time shifting mode\n",
    "gen_shifting = mlt.System.System(electric_load, power_house, 's', storage=battery, resource_input=solar_energy)"
   ]
  }
 ],
 "metadata": {
  "kernelspec": {
   "display_name": "Python 3 (ipykernel)",
   "language": "python",
   "name": "python3"
  },
  "language_info": {
   "codemirror_mode": {
    "name": "ipython",
    "version": 3
   },
   "file_extension": ".py",
   "mimetype": "text/x-python",
   "name": "python",
   "nbconvert_exporter": "python",
   "pygments_lexer": "ipython3",
   "version": "3.12.3"
  }
 },
 "nbformat": 4,
 "nbformat_minor": 5
}
